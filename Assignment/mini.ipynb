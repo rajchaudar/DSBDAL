{
 "cells": [
  {
   "cell_type": "code",
   "execution_count": 1,
   "id": "15bc8f58",
   "metadata": {},
   "outputs": [
    {
     "name": "stdout",
     "output_type": "stream",
     "text": [
      "Top 5 recommendations for 'Avatar':\n",
      "Guardians of the Galaxy\n",
      "Aliens\n",
      "Star Wars: Clone Wars: Volume 1\n",
      "Star Trek Into Darkness\n",
      "Star Trek Beyond\n"
     ]
    }
   ],
   "source": [
    "import pandas as pd\n",
    "from sklearn.feature_extraction.text import CountVectorizer\n",
    "from sklearn.metrics.pairwise import cosine_similarity\n",
    "\n",
    "# Load dataset\n",
    "df = pd.read_csv(\"../Data/movie_dataset.csv\")\n",
    "\n",
    "# Fill missing values\n",
    "df = df.fillna('')\n",
    "\n",
    "# Combine important features into a single column\n",
    "def combine_features(row):\n",
    "    return row['keywords'] + \" \" + row['cast'] + \" \" + row['genres'] + \" \" + row['director']\n",
    "\n",
    "df[\"combined_features\"] = df.apply(combine_features, axis=1)\n",
    "\n",
    "# Convert text to vectors\n",
    "vectorizer = CountVectorizer()\n",
    "count_matrix = vectorizer.fit_transform(df[\"combined_features\"])\n",
    "\n",
    "# Compute cosine similarity\n",
    "cosine_sim = cosine_similarity(count_matrix)\n",
    "\n",
    "# Function to get movie recommendations\n",
    "def get_recommendations(movie_title):\n",
    "    movie_index = df[df.title == movie_title].index[0]\n",
    "    similar_movies = list(enumerate(cosine_sim[movie_index]))\n",
    "    sorted_similar_movies = sorted(similar_movies, key=lambda x: x[1], reverse=True)[1:6]\n",
    "    \n",
    "    print(f\"Top 5 recommendations for '{movie_title}':\")\n",
    "    for i in sorted_similar_movies:\n",
    "        print(df.iloc[i[0]]['title'])\n",
    "\n",
    "# Example\n",
    "get_recommendations(\"Avatar\")"
   ]
  }
 ],
 "metadata": {
  "kernelspec": {
   "display_name": "Python 3",
   "language": "python",
   "name": "python3"
  },
  "language_info": {
   "codemirror_mode": {
    "name": "ipython",
    "version": 3
   },
   "file_extension": ".py",
   "mimetype": "text/x-python",
   "name": "python",
   "nbconvert_exporter": "python",
   "pygments_lexer": "ipython3",
   "version": "3.13.1"
  }
 },
 "nbformat": 4,
 "nbformat_minor": 5
}
