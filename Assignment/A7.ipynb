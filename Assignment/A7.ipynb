{
 "cells": [
  {
   "cell_type": "code",
   "execution_count": 21,
   "id": "b756aa2a",
   "metadata": {},
   "outputs": [
    {
     "name": "stdout",
     "output_type": "stream",
     "text": [
      "NLTK Data Files: ['tokenizers', 'taggers', 'corpora']\n"
     ]
    },
    {
     "name": "stderr",
     "output_type": "stream",
     "text": [
      "[nltk_data] Downloading package punkt to\n",
      "[nltk_data]     /Users/shivrajchaudar/nltk_data...\n",
      "[nltk_data]   Package punkt is already up-to-date!\n",
      "[nltk_data] Downloading package stopwords to\n",
      "[nltk_data]     /Users/shivrajchaudar/nltk_data...\n",
      "[nltk_data]   Package stopwords is already up-to-date!\n",
      "[nltk_data] Downloading package wordnet to\n",
      "[nltk_data]     /Users/shivrajchaudar/nltk_data...\n",
      "[nltk_data]   Package wordnet is already up-to-date!\n",
      "[nltk_data] Downloading package averaged_perceptron_tagger to\n",
      "[nltk_data]     /Users/shivrajchaudar/nltk_data...\n",
      "[nltk_data]   Package averaged_perceptron_tagger is already up-to-\n",
      "[nltk_data]       date!\n"
     ]
    }
   ],
   "source": [
    "import nltk\n",
    "import os\n",
    "from nltk.tokenize import sent_tokenize, word_tokenize\n",
    "from nltk.corpus import stopwords\n",
    "from nltk.stem import PorterStemmer, WordNetLemmatizer\n",
    "from sklearn.feature_extraction.text import TfidfVectorizer\n",
    "from sklearn.naive_bayes import MultinomialNB\n",
    "from sklearn import metrics\n",
    "from sklearn.model_selection import train_test_split\n",
    "from sklearn.metrics import classification_report, confusion_matrix\n",
    "\n",
    "# Setup NLTK data path\n",
    "nltk_data_dir = '/Users/shivrajchaudar/nltk_data'\n",
    "nltk.data.path.append(nltk_data_dir)\n",
    "\n",
    "# Downloads\n",
    "nltk.download('punkt', download_dir=nltk_data_dir)\n",
    "nltk.download('stopwords', download_dir=nltk_data_dir)\n",
    "nltk.download('wordnet', download_dir=nltk_data_dir)\n",
    "nltk.download('averaged_perceptron_tagger', download_dir=nltk_data_dir)\n",
    "\n",
    "print(\"NLTK Data Files:\", os.listdir(nltk_data_dir))"
   ]
  },
  {
   "cell_type": "code",
   "execution_count": 22,
   "id": "d85d92b3",
   "metadata": {},
   "outputs": [],
   "source": [
    "# Sample text for tokenization and POS tagging\n",
    "text = \"\"\"Albert Einstein was a theoretical physicist who developed the theory of relativity.\n",
    "He was born in Germany in 1879 and is considered one of the most influential physicists.\"\"\""
   ]
  },
  {
   "cell_type": "code",
   "execution_count": 23,
   "id": "881f082c",
   "metadata": {},
   "outputs": [
    {
     "name": "stdout",
     "output_type": "stream",
     "text": [
      "Sentence Tokenization: ['Albert Einstein was a theoretical physicist who developed the theory of relativity.', 'He was born in Germany in 1879 and is considered one of the most influential physicists.']\n",
      "Word Tokenization: ['Albert', 'Einstein', 'was', 'a', 'theoretical', 'physicist', 'who', 'developed', 'the', 'theory', 'of', 'relativity', '.', 'He', 'was', 'born', 'in', 'Germany', 'in', '1879', 'and', 'is', 'considered', 'one', 'of', 'the', 'most', 'influential', 'physicists', '.']\n"
     ]
    }
   ],
   "source": [
    "# Sentence Tokenization\n",
    "sentences = sent_tokenize(text)\n",
    "print(\"Sentence Tokenization:\", sentences)\n",
    "\n",
    "# Word Tokenization\n",
    "words = word_tokenize(text)\n",
    "print(\"Word Tokenization:\", words)"
   ]
  },
  {
   "cell_type": "code",
   "execution_count": 24,
   "id": "e1e4d574",
   "metadata": {},
   "outputs": [
    {
     "name": "stdout",
     "output_type": "stream",
     "text": [
      "Filtered Words: ['Albert', 'Einstein', 'theoretical', 'physicist', 'developed', 'theory', 'relativity', '.', 'born', 'Germany', '1879', 'considered', 'one', 'influential', 'physicists', '.']\n"
     ]
    }
   ],
   "source": [
    "# Stopwords Removal\n",
    "stop_words = set(stopwords.words('english'))\n",
    "filtered_words = [w for w in words if w.lower() not in stop_words]\n",
    "print(\"Filtered Words:\", filtered_words)"
   ]
  },
  {
   "cell_type": "code",
   "execution_count": 25,
   "id": "8b6f513f",
   "metadata": {},
   "outputs": [
    {
     "name": "stdout",
     "output_type": "stream",
     "text": [
      "Stemmed Words: ['albert', 'einstein', 'theoret', 'physicist', 'develop', 'theori', 'rel', '.', 'born', 'germani', '1879', 'consid', 'one', 'influenti', 'physicist', '.']\n",
      "Lemmatized Words: ['Albert', 'Einstein', 'theoretical', 'physicist', 'developed', 'theory', 'relativity', '.', 'born', 'Germany', '1879', 'considered', 'one', 'influential', 'physicist', '.']\n"
     ]
    }
   ],
   "source": [
    "# Stemming\n",
    "stemmer = PorterStemmer()\n",
    "stemmed = [stemmer.stem(w) for w in filtered_words]\n",
    "print(\"Stemmed Words:\", stemmed)\n",
    "\n",
    "# Lemmatization\n",
    "lemmatizer = WordNetLemmatizer()\n",
    "lemmatized = [lemmatizer.lemmatize(w) for w in filtered_words]\n",
    "print(\"Lemmatized Words:\", lemmatized)"
   ]
  },
  {
   "cell_type": "code",
   "execution_count": 26,
   "id": "bf1cd3fc",
   "metadata": {},
   "outputs": [
    {
     "name": "stdout",
     "output_type": "stream",
     "text": [
      "POS Tagging: [('Albert', 'NNP'), ('Einstein', 'NNP'), ('theoretical', 'JJ'), ('physicist', 'NN'), ('developed', 'VBD'), ('theory', 'JJ'), ('relativity', 'NN'), ('.', '.'), ('born', 'VBN'), ('Germany', 'NNP'), ('1879', 'CD'), ('considered', 'VBD'), ('one', 'CD'), ('influential', 'JJ'), ('physicists', 'NNS'), ('.', '.')]\n"
     ]
    }
   ],
   "source": [
    "# POS Tagging\n",
    "pos_tags = nltk.pos_tag(filtered_words)\n",
    "print(\"POS Tagging:\", pos_tags)"
   ]
  },
  {
   "cell_type": "code",
   "execution_count": 27,
   "id": "feeaee49",
   "metadata": {},
   "outputs": [
    {
     "name": "stdout",
     "output_type": "stream",
     "text": [
      "TF-IDF Vocabulary: ['area' 'area physic' 'behave' 'behave wave' 'challenged'\n",
      " 'challenged newtonian' 'changed' 'changed understand' 'classical'\n",
      " 'classical physic' 'deal' 'deal heat' 'deep' 'deep thought' 'describes'\n",
      " 'describes electric' 'describes everyday' 'developed' 'developed newton'\n",
      " 'developed theory' 'development' 'development quantum' 'effect'\n",
      " 'effect explained' 'einstein' 'einstein challenged' 'einstein developed'\n",
      " 'einstein idea' 'einstein published' 'einstein received' 'einstein work'\n",
      " 'electric' 'electric magnetic' 'electromagnetism'\n",
      " 'electromagnetism describes' 'energy' 'everyday' 'everyday physical'\n",
      " 'explained' 'explained einstein' 'explores' 'explores subatomic' 'famous'\n",
      " 'famous scientist' 'field' 'force' 'force universe' 'fundamental'\n",
      " 'fundamental force' 'germany' 'gravity' 'gravity fundamental' 'hair'\n",
      " 'hair deep' 'heat' 'heat temperature' 'history' 'idea' 'idea influenced'\n",
      " 'influenced' 'influenced modern' 'known' 'known wild' 'law' 'law motion'\n",
      " 'led' 'led development' 'light' 'light behave' 'magnetic'\n",
      " 'magnetic field' 'matter' 'matter energy' 'mechanic' 'mechanic area'\n",
      " 'modern' 'modern physic' 'motion' 'motion developed' 'newton' 'newtonian'\n",
      " 'newtonian physic' 'nobel' 'nobel prize' 'paper' 'particle'\n",
      " 'particle physic' 'phenomenon' 'photoelectric' 'photoelectric effect'\n",
      " 'physic' 'physic describes' 'physic explores' 'physic study' 'physical'\n",
      " 'physical phenomenon' 'physicist' 'physicist germany' 'prize'\n",
      " 'prize physic' 'published' 'published scientific' 'quantum'\n",
      " 'quantum mechanic' 'quantum theory' 'received' 'received nobel'\n",
      " 'relativity' 'relativity changed' 'scientific' 'scientific paper'\n",
      " 'scientist' 'scientist history' 'space' 'space time' 'study'\n",
      " 'study matter' 'subatomic' 'subatomic particle' 'temperature' 'theory'\n",
      " 'theory relativity' 'thermodynamics' 'thermodynamics deal' 'thought'\n",
      " 'time' 'understand' 'understand space' 'universe' 'wave' 'wave particle'\n",
      " 'wild' 'wild hair' 'work' 'work led']\n"
     ]
    }
   ],
   "source": [
    "# Sample dataset\n",
    "docs = [\n",
    "    # Class 0 – Einstein / related\n",
    "    \"Einstein developed the theory of relativity.\",\n",
    "    \"He was a physicist from Germany.\",\n",
    "    \"Einstein received the Nobel Prize in Physics.\",\n",
    "    \"Einstein's work led to the development of quantum theory.\",\n",
    "    \"The photoelectric effect was explained by Einstein.\",\n",
    "    \"Einstein's ideas influenced modern physics.\",\n",
    "    \"He is one of the most famous scientists in history.\",\n",
    "    \"Einstein challenged Newtonian physics.\",\n",
    "    \"He was known for his wild hair and deep thoughts.\",\n",
    "    \"Einstein published many scientific papers.\",\n",
    "    \n",
    "    # Class 1 – General Physics\n",
    "    \"Physics is the study of matter and energy.\",\n",
    "    \"Relativity changed how we understand space and time.\",\n",
    "    \"Quantum mechanics is another area of physics.\",\n",
    "    \"The laws of motion were developed by Newton.\",\n",
    "    \"Thermodynamics deals with heat and temperature.\",\n",
    "    \"Electromagnetism describes electric and magnetic fields.\",\n",
    "    \"Particle physics explores subatomic particles.\",\n",
    "    \"Classical physics describes everyday physical phenomena.\",\n",
    "    \"Gravity is a fundamental force in the universe.\",\n",
    "    \"Light can behave as both a wave and a particle.\"\n",
    "]\n",
    "\n",
    "labels = [0]*10 + [1]*10\n",
    "\n",
    "from sklearn.linear_model import LogisticRegression\n",
    "model = LogisticRegression()\n",
    "\n",
    "# Preprocess function for classification\n",
    "def preprocess(text):\n",
    "    words = word_tokenize(text)\n",
    "    words = [w for w in words if w.lower() not in stop_words]\n",
    "    return ' '.join([lemmatizer.lemmatize(w.lower()) for w in words])\n",
    "\n",
    "# Apply preprocessing\n",
    "docs_cleaned = [preprocess(doc) for doc in docs]\n",
    "\n",
    "# TF-IDF Vectorization\n",
    "vectorizer = TfidfVectorizer(ngram_range=(1, 2), stop_words='english')\n",
    "X = vectorizer.fit_transform(docs_cleaned)\n",
    "print(\"TF-IDF Vocabulary:\", vectorizer.get_feature_names_out())\n"
   ]
  },
  {
   "cell_type": "code",
   "execution_count": 28,
   "id": "8d362ed4",
   "metadata": {},
   "outputs": [
    {
     "name": "stdout",
     "output_type": "stream",
     "text": [
      "\n",
      "--- Classification Results ---\n",
      "Predicted Labels: [1 1 0 0 1 0 0]\n",
      "Accuracy: 0.7142857142857143\n",
      "Confusion Matrix:\n",
      " [[3 1]\n",
      " [1 2]]\n",
      "Classification Report:\n",
      "               precision    recall  f1-score   support\n",
      "\n",
      "           0       0.75      0.75      0.75         4\n",
      "           1       0.67      0.67      0.67         3\n",
      "\n",
      "    accuracy                           0.71         7\n",
      "   macro avg       0.71      0.71      0.71         7\n",
      "weighted avg       0.71      0.71      0.71         7\n",
      "\n"
     ]
    }
   ],
   "source": [
    "# Train-test split\n",
    "X_train, X_test, y_train, y_test = train_test_split(\n",
    "    X, labels, test_size=0.33, random_state=42, stratify=labels)\n",
    "\n",
    "# Model Training\n",
    "model = MultinomialNB()\n",
    "model.fit(X_train, y_train)\n",
    "\n",
    "# Prediction\n",
    "y_pred = model.predict(X_test)\n",
    "\n",
    "# Evaluation\n",
    "print(\"\\n--- Classification Results ---\")\n",
    "print(\"Predicted Labels:\", y_pred)\n",
    "print(\"Accuracy:\", metrics.accuracy_score(y_test, y_pred))\n",
    "print(\"Confusion Matrix:\\n\", confusion_matrix(y_test, y_pred))\n",
    "print(\"Classification Report:\\n\", classification_report(y_test, y_pred))"
   ]
  }
 ],
 "metadata": {
  "kernelspec": {
   "display_name": "Python 3",
   "language": "python",
   "name": "python3"
  },
  "language_info": {
   "codemirror_mode": {
    "name": "ipython",
    "version": 3
   },
   "file_extension": ".py",
   "mimetype": "text/x-python",
   "name": "python",
   "nbconvert_exporter": "python",
   "pygments_lexer": "ipython3",
   "version": "3.13.1"
  }
 },
 "nbformat": 4,
 "nbformat_minor": 5
}
