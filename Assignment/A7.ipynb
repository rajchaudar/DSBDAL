{
 "cells": [
  {
   "cell_type": "code",
   "execution_count": 19,
   "id": "b756aa2a",
   "metadata": {},
   "outputs": [
    {
     "name": "stdout",
     "output_type": "stream",
     "text": [
      "NLTK Data Files: ['tokenizers', 'taggers', 'corpora']\n"
     ]
    },
    {
     "name": "stderr",
     "output_type": "stream",
     "text": [
      "[nltk_data] Downloading package punkt to\n",
      "[nltk_data]     /Users/shivrajchaudar/nltk_data...\n",
      "[nltk_data]   Package punkt is already up-to-date!\n",
      "[nltk_data] Downloading package stopwords to\n",
      "[nltk_data]     /Users/shivrajchaudar/nltk_data...\n",
      "[nltk_data]   Package stopwords is already up-to-date!\n",
      "[nltk_data] Downloading package wordnet to\n",
      "[nltk_data]     /Users/shivrajchaudar/nltk_data...\n",
      "[nltk_data]   Package wordnet is already up-to-date!\n",
      "[nltk_data] Downloading package averaged_perceptron_tagger to\n",
      "[nltk_data]     /Users/shivrajchaudar/nltk_data...\n",
      "[nltk_data]   Package averaged_perceptron_tagger is already up-to-\n",
      "[nltk_data]       date!\n"
     ]
    }
   ],
   "source": [
    "import nltk\n",
    "import os\n",
    "from nltk.tokenize import sent_tokenize, word_tokenize\n",
    "from nltk.corpus import stopwords\n",
    "from nltk.stem import PorterStemmer, WordNetLemmatizer\n",
    "from sklearn.feature_extraction.text import TfidfVectorizer\n",
    "from sklearn.naive_bayes import MultinomialNB\n",
    "from sklearn import metrics\n",
    "\n",
    "# Setup NLTK data path\n",
    "nltk_data_dir = '/Users/shivrajchaudar/nltk_data'\n",
    "nltk.data.path.append(nltk_data_dir)\n",
    "\n",
    "# Downloads\n",
    "nltk.download('punkt', download_dir=nltk_data_dir)\n",
    "nltk.download('stopwords', download_dir=nltk_data_dir)\n",
    "nltk.download('wordnet', download_dir=nltk_data_dir)\n",
    "nltk.download('averaged_perceptron_tagger', download_dir=nltk_data_dir)\n",
    "\n",
    "print(\"NLTK Data Files:\", os.listdir(nltk_data_dir))"
   ]
  },
  {
   "cell_type": "code",
   "execution_count": 20,
   "id": "d85d92b3",
   "metadata": {},
   "outputs": [],
   "source": [
    "text = \"\"\"Albert Einstein was a theoretical physicist who developed the theory of relativity.\n",
    "He was born in Germany in 1879 and is considered one of the most influential physicists.\"\"\""
   ]
  },
  {
   "cell_type": "code",
   "execution_count": 21,
   "id": "881f082c",
   "metadata": {},
   "outputs": [
    {
     "name": "stdout",
     "output_type": "stream",
     "text": [
      "Sentence Tokenization: ['Albert Einstein was a theoretical physicist who developed the theory of relativity.', 'He was born in Germany in 1879 and is considered one of the most influential physicists.']\n",
      "Word Tokenization: ['Albert', 'Einstein', 'was', 'a', 'theoretical', 'physicist', 'who', 'developed', 'the', 'theory', 'of', 'relativity', '.', 'He', 'was', 'born', 'in', 'Germany', 'in', '1879', 'and', 'is', 'considered', 'one', 'of', 'the', 'most', 'influential', 'physicists', '.']\n"
     ]
    }
   ],
   "source": [
    "# Sentence Tokenization\n",
    "sentences = sent_tokenize(text)\n",
    "print(\"Sentence Tokenization:\", sentences)\n",
    "\n",
    "# Word Tokenization\n",
    "words = word_tokenize(text)\n",
    "print(\"Word Tokenization:\", words)"
   ]
  },
  {
   "cell_type": "code",
   "execution_count": 22,
   "id": "e1e4d574",
   "metadata": {},
   "outputs": [
    {
     "name": "stdout",
     "output_type": "stream",
     "text": [
      "Filtered Words: ['Albert', 'Einstein', 'theoretical', 'physicist', 'developed', 'theory', 'relativity', '.', 'born', 'Germany', '1879', 'considered', 'one', 'influential', 'physicists', '.']\n"
     ]
    }
   ],
   "source": [
    "# Removing stopwords\n",
    "stop_words = set(stopwords.words('english'))\n",
    "filtered_words = [w for w in words if w.lower() not in stop_words]\n",
    "print(\"Filtered Words:\", filtered_words)"
   ]
  },
  {
   "cell_type": "code",
   "execution_count": 23,
   "id": "8b6f513f",
   "metadata": {},
   "outputs": [
    {
     "name": "stdout",
     "output_type": "stream",
     "text": [
      "Stemmed Words: ['albert', 'einstein', 'theoret', 'physicist', 'develop', 'theori', 'rel', '.', 'born', 'germani', '1879', 'consid', 'one', 'influenti', 'physicist', '.']\n",
      "Lemmatized Words: ['Albert', 'Einstein', 'theoretical', 'physicist', 'developed', 'theory', 'relativity', '.', 'born', 'Germany', '1879', 'considered', 'one', 'influential', 'physicist', '.']\n"
     ]
    }
   ],
   "source": [
    "# Stemming\n",
    "stemmer = PorterStemmer()\n",
    "stemmed = [stemmer.stem(w) for w in filtered_words]\n",
    "print(\"Stemmed Words:\", stemmed)\n",
    "\n",
    "# Lemmatization\n",
    "lemmatizer = WordNetLemmatizer()\n",
    "lemmatized = [lemmatizer.lemmatize(w) for w in filtered_words]\n",
    "print(\"Lemmatized Words:\", lemmatized)"
   ]
  },
  {
   "cell_type": "code",
   "execution_count": 24,
   "id": "bf1cd3fc",
   "metadata": {},
   "outputs": [
    {
     "name": "stdout",
     "output_type": "stream",
     "text": [
      "POS Tagging: [('Albert', 'NNP'), ('Einstein', 'NNP'), ('theoretical', 'JJ'), ('physicist', 'NN'), ('developed', 'VBD'), ('theory', 'JJ'), ('relativity', 'NN'), ('.', '.'), ('born', 'VBN'), ('Germany', 'NNP'), ('1879', 'CD'), ('considered', 'VBD'), ('one', 'CD'), ('influential', 'JJ'), ('physicists', 'NNS'), ('.', '.')]\n"
     ]
    }
   ],
   "source": [
    "# POS Tagging\n",
    "pos_tags = nltk.pos_tag(filtered_words)\n",
    "print(\"POS Tagging:\", pos_tags)"
   ]
  },
  {
   "cell_type": "code",
   "execution_count": 25,
   "id": "feeaee49",
   "metadata": {},
   "outputs": [
    {
     "name": "stdout",
     "output_type": "stream",
     "text": [
      "Predicted Labels: [0]\n",
      "Accuracy: 0.0\n"
     ]
    }
   ],
   "source": [
    "# Sample dataset\n",
    "docs = [\"Einstein developed the theory of relativity.\",\n",
    "        \"Physics is the study of matter and energy.\",\n",
    "        \"Relativity changed how we understand space and time.\"]\n",
    "\n",
    "# Labels for the sample data (e.g., 0 = biography, 1 = science)\n",
    "labels = [0, 1, 1]\n",
    "\n",
    "# TF-IDF Vectorization\n",
    "vectorizer = TfidfVectorizer()\n",
    "X = vectorizer.fit_transform(docs)\n",
    "\n",
    "# Splitting manually (small sample)\n",
    "X_train, X_test = X[:2], X[2:]\n",
    "y_train, y_test = labels[:2], labels[2:]\n",
    "\n",
    "# Model Training\n",
    "model = MultinomialNB()\n",
    "model.fit(X_train, y_train)\n",
    "\n",
    "# Prediction\n",
    "y_pred = model.predict(X_test)\n",
    "print(\"Predicted Labels:\", y_pred)\n",
    "print(\"Accuracy:\", metrics.accuracy_score(y_test, y_pred))"
   ]
  }
 ],
 "metadata": {
  "kernelspec": {
   "display_name": "Python 3",
   "language": "python",
   "name": "python3"
  },
  "language_info": {
   "codemirror_mode": {
    "name": "ipython",
    "version": 3
   },
   "file_extension": ".py",
   "mimetype": "text/x-python",
   "name": "python",
   "nbconvert_exporter": "python",
   "pygments_lexer": "ipython3",
   "version": "3.13.1"
  }
 },
 "nbformat": 4,
 "nbformat_minor": 5
}
